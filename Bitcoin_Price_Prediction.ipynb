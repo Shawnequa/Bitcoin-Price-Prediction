{
  "nbformat": 4,
  "nbformat_minor": 0,
  "metadata": {
    "colab": {
      "provenance": []
    },
    "kernelspec": {
      "name": "python3",
      "display_name": "Python 3"
    },
    "language_info": {
      "name": "python"
    }
  },
  "cells": [
    {
      "cell_type": "markdown",
      "source": [
        "**Question**: Can I predict future Bitcoin prices using historical data, and how accurate will my predictions be?\n",
        "\n",
        "1. Visualize historical Bitcoin prices through line graphs and candlestick charts.\n",
        "2. Prepare data for machine learning by creating features (lagged prices).\n",
        "3. Apply a Random Forest model to predict future Bitcoin prices.\n",
        "4. Evaluate the model's accuracy by comparing predicted prices to actual prices."
      ],
      "metadata": {
        "id": "KihFyFjZNuRJ"
      }
    },
    {
      "cell_type": "markdown",
      "source": [
        "1. Reference Information & Descriptions"
      ],
      "metadata": {
        "id": "z4PQktqNEVV3"
      }
    },
    {
      "cell_type": "code",
      "execution_count": null,
      "metadata": {
        "id": "h7HhSRNQDhCo"
      },
      "outputs": [],
      "source": [
        "import pandas as pd\n",
        "import numpy as np\n",
        "import matplotlib.pyplot as plt\n",
        "import seaborn as sns\n",
        "\n",
        "from sklearn.ensemble import RandomForestRegressor\n",
        "from sklearn.metrics import mean_squared_error, r2_score\n",
        "\n",
        "!pip install mplfinance\n"
      ]
    },
    {
      "cell_type": "markdown",
      "source": [
        "2. Data Ingestion"
      ],
      "metadata": {
        "id": "k1u9EOYgEgbe"
      }
    },
    {
      "cell_type": "code",
      "source": [
        "df = pd.read_csv('/content/BTC-USD(1).csv')"
      ],
      "metadata": {
        "id": "2QZyawJXEmUN"
      },
      "execution_count": null,
      "outputs": []
    },
    {
      "cell_type": "markdown",
      "source": [
        "3. Set Display Option"
      ],
      "metadata": {
        "id": "cPonXQSVFSwk"
      }
    },
    {
      "cell_type": "code",
      "source": [
        "pd.set_option('display.max_columns', 40)\n",
        "pd.set_option('display.max_rows', 40)\n",
        "df.head()\n",
        "df.tail\n",
        "df.shape\n",
        "df.info()"
      ],
      "metadata": {
        "id": "kXF6UQifFXNz"
      },
      "execution_count": null,
      "outputs": []
    },
    {
      "cell_type": "markdown",
      "source": [
        "4. Data Exploration"
      ],
      "metadata": {
        "id": "HLgs18KnGTbB"
      }
    },
    {
      "cell_type": "code",
      "source": [
        "df.describe(include='all')"
      ],
      "metadata": {
        "id": "pBvaOHPIGWfA"
      },
      "execution_count": null,
      "outputs": []
    },
    {
      "cell_type": "markdown",
      "source": [
        "5. Visualization Line graph"
      ],
      "metadata": {
        "id": "I_X9uOwvGhSP"
      }
    },
    {
      "cell_type": "code",
      "source": [
        "# Convert the 'Date' column to datetime format\n",
        "df['Date'] = pd.to_datetime(df['Date'])\n",
        "\n",
        "# Filter the DataFrame to include only dates within the specified range\n",
        "start_date = '2014-09-16'\n",
        "end_date = '2022-03-24'\n",
        "mask = (df['Date'] >= start_date) & (df['Date'] <= end_date)\n",
        "df_filtered = df.loc[mask]\n",
        "\n",
        "# Plot the line graph\n",
        "plt.figure(figsize=(12, 6))\n",
        "plt.plot(df_filtered['Date'], df_filtered['Close'], label='Bitcoin Price')\n",
        "plt.xlabel('Date')\n",
        "plt.ylabel('Price (USD)')\n",
        "plt.title('Bitcoin Price from 2014-09-16 to 2022-03-24')\n",
        "plt.xticks(rotation=45)  # Rotate x-axis labels for better readability\n",
        "plt.grid(True)\n",
        "plt.legend()\n",
        "plt.show()"
      ],
      "metadata": {
        "id": "dODN3J81GoJw"
      },
      "execution_count": null,
      "outputs": []
    },
    {
      "cell_type": "markdown",
      "source": [
        "6. Visualization Candlestick graph"
      ],
      "metadata": {
        "id": "8lFAS-wjI_ny"
      }
    },
    {
      "cell_type": "code",
      "source": [
        "import mplfinance as mpf\n",
        "\n",
        "# Convert the 'Date' column to datetime format\n",
        "df['Date'] = pd.to_datetime(df['Date'])\n",
        "\n",
        "# Filter the DataFrame to include only dates within the specified range\n",
        "start_date = '2014-09-16'\n",
        "end_date = '2022-03-24'\n",
        "mask = (df['Date'] >= start_date) & (df['Date'] <= end_date)\n",
        "df_filtered = df.loc[mask]\n",
        "\n",
        "# Set the 'Date' column as the index\n",
        "df_filtered.set_index('Date', inplace=True)\n",
        "\n",
        "# Plot the candlestick chart\n",
        "mpf.plot(df_filtered, type='candle', volume=True,\n",
        "         title='Bitcoin Candlestick Chart (2014-09-16 to 2022-03-24)',\n",
        "         ylabel='Price (USD)',\n",
        "         ylabel_lower='Volume',\n",
        "         style='yahoo')"
      ],
      "metadata": {
        "id": "UMlDfLneJHIe"
      },
      "execution_count": null,
      "outputs": []
    },
    {
      "cell_type": "markdown",
      "source": [
        "7. Feature Engineering for Random Forest"
      ],
      "metadata": {
        "id": "wlHWgQ8RL41U"
      }
    },
    {
      "cell_type": "code",
      "source": [
        "# Lag Features: Created new features by shifting the closing prices by 1 to 5 days (`lag_1` to `lag_5`). These features represent the price at previous time points, which is crucial for time series forecasting.\n",
        "# Creating lag features\n",
        "df_filtered['lag_1'] = df_filtered['Close'].shift(1)\n",
        "df_filtered['lag_2'] = df_filtered['Close'].shift(2)\n",
        "df_filtered['lag_3'] = df_filtered['Close'].shift(3)\n",
        "df_filtered['lag_4'] = df_filtered['Close'].shift(4)\n",
        "df_filtered['lag_5'] = df_filtered['Close'].shift(5)\n",
        "\n",
        "# Drop any rows with NaN values created by the shifting\n",
        "df_filtered.dropna(inplace=True)"
      ],
      "metadata": {
        "id": "VXUDwICIL89C"
      },
      "execution_count": null,
      "outputs": []
    },
    {
      "cell_type": "markdown",
      "source": [
        " 8. Define features (X) and target (y)"
      ],
      "metadata": {
        "id": "uGWjDwBrMGZU"
      }
    },
    {
      "cell_type": "code",
      "source": [
        "# Selected the newly created features (lag and rolling features) as input variables (X) and the current closing price as the target variable (y).\n",
        "X = df_filtered[['lag_1', 'lag_2', 'lag_3', 'lag_4', 'lag_5']]\n",
        "y = df_filtered['Close']"
      ],
      "metadata": {
        "id": "apqMBPC6MI4M"
      },
      "execution_count": null,
      "outputs": []
    },
    {
      "cell_type": "markdown",
      "source": [
        "9. Train-Test Split"
      ],
      "metadata": {
        "id": "GKeS3bE3MNze"
      }
    },
    {
      "cell_type": "code",
      "source": [
        "# Used TimeSeriesSplit instead of a standard train-test split to maintain the temporal order of the data, which is crucial for time series data.\n",
        "from sklearn.model_selection import train_test_split\n",
        "X_train, X_test, y_train, y_test = train_test_split(X, y, test_size=0.2, shuffle=False)"
      ],
      "metadata": {
        "id": "8j-Hw8mAMTH0"
      },
      "execution_count": null,
      "outputs": []
    },
    {
      "cell_type": "markdown",
      "source": [
        "10. Fit the Random Forest model"
      ],
      "metadata": {
        "id": "A0e2n6YlMZg0"
      }
    },
    {
      "cell_type": "code",
      "source": [
        "from sklearn.ensemble import RandomForestRegressor\n",
        "from sklearn.metrics import mean_squared_error, r2_score\n",
        "\n",
        "rf = RandomForestRegressor(n_estimators=100, random_state=42)\n",
        "rf.fit(X_train, y_train)"
      ],
      "metadata": {
        "id": "yHUS_m3nMaek"
      },
      "execution_count": null,
      "outputs": []
    },
    {
      "cell_type": "markdown",
      "source": [
        "11. Make predictions"
      ],
      "metadata": {
        "id": "WbXJHoRiM28l"
      }
    },
    {
      "cell_type": "code",
      "source": [
        "y_pred = rf.predict(X_test)\n"
      ],
      "metadata": {
        "id": "nqfpls-BM449"
      },
      "execution_count": null,
      "outputs": []
    },
    {
      "cell_type": "markdown",
      "source": [
        "12. Evaluate the model"
      ],
      "metadata": {
        "id": "r-pD9NyNM8yt"
      }
    },
    {
      "cell_type": "code",
      "source": [
        "mse = mean_squared_error(y_test, y_pred)\n",
        "r2 = r2_score(y_test, y_pred)\n",
        "\n",
        "print(f\"Mean Squared Error: {mse}\")\n",
        "print(f\"R-squared: {r2}\")"
      ],
      "metadata": {
        "id": "_RUffr5INA48"
      },
      "execution_count": null,
      "outputs": []
    },
    {
      "cell_type": "markdown",
      "source": [
        "13. Plot actual vs. predicted prices"
      ],
      "metadata": {
        "id": "rc1RouLgNFQt"
      }
    },
    {
      "cell_type": "code",
      "source": [
        "plt.figure(figsize=(12, 6))\n",
        "plt.plot(df_filtered.index[-len(y_test):], y_test, label='Actual Prices')\n",
        "plt.plot(df_filtered.index[-len(y_test):], y_pred, label='Predicted Prices', linestyle='--')\n",
        "plt.xlabel('Date')\n",
        "plt.ylabel('Price (USD)')\n",
        "plt.title('Actual vs Predicted Bitcoin Prices')\n",
        "plt.xticks(rotation=45)\n",
        "plt.legend()\n",
        "plt.show()"
      ],
      "metadata": {
        "id": "te8VVY6oNIDt"
      },
      "execution_count": null,
      "outputs": []
    }
  ]
}